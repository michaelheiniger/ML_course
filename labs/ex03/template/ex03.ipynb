{
 "cells": [
  {
   "cell_type": "code",
   "execution_count": 2,
   "metadata": {
    "collapsed": false
   },
   "outputs": [],
   "source": [
    "# Useful starting lines\n",
    "%matplotlib inline\n",
    "import numpy as np\n",
    "import matplotlib.pyplot as plt\n",
    "%load_ext autoreload\n",
    "%autoreload 2\n",
    "\n",
    "from costs import *\n",
    "from grid_search import *\n",
    "import math\n"
   ]
  },
  {
   "cell_type": "markdown",
   "metadata": {},
   "source": [
    "# Least squares and linear basis functions models\n",
    "## Least squares"
   ]
  },
  {
   "cell_type": "code",
   "execution_count": 3,
   "metadata": {
    "collapsed": true
   },
   "outputs": [],
   "source": [
    "def least_squares(y, tx):\n",
    "    \"\"\"calculate the least squares solution.\"\"\"\n",
    "    #Solve as Ax = b\n",
    "    A = np.transpose(tx).dot(tx)\n",
    "    b = np.transpose(tx).dot(y)\n",
    "    w_opt = np.linalg.solve(A,b)\n",
    "    \n",
    "    loss = compute_loss(y, tx, w_opt)\n",
    "    \n",
    "    return loss, w_opt\n",
    "        "
   ]
  },
  {
   "cell_type": "markdown",
   "metadata": {},
   "source": [
    "### Load the data\n",
    "Here we will reuse the dataset `height_weight_genders.csv` from previous exercise section to check the correctness of your implementation. Please compare it with your previous result."
   ]
  },
  {
   "cell_type": "code",
   "execution_count": 4,
   "metadata": {
    "collapsed": false
   },
   "outputs": [
    {
     "name": "stdout",
     "output_type": "stream",
     "text": [
      "LSE 15.3858878688 [ 73.293922    13.47971243]\n",
      "Grid Search: 15.5587033686 [ 72.7272727273 13.6363636364 ]\n"
     ]
    }
   ],
   "source": [
    "from helpers import *\n",
    "def test_your_least_squares():\n",
    "    height, weight, gender = load_data_from_ex02(sub_sample=False, add_outlier=False)\n",
    "    x, mean_x, std_x = standardize(height)\n",
    "    y, tx = build_model_data(x, weight)\n",
    "\n",
    "    # least square or grid search\n",
    "    # this code should compare the optimal weights obtained \n",
    "    # by least squares vs. grid search\n",
    "    \n",
    "    ls_loss, ls_w_opt = least_squares(y, tx)\n",
    "    print(\"LSE\", ls_loss, ls_w_opt)\n",
    "    \n",
    "    w0, w1 = generate_w(100)\n",
    "    gs_losses = grid_search(y, tx, w0, w1)\n",
    "    gs_loss, w0_opt, w1_opt = get_best_parameters(w0, w1, gs_losses)\n",
    "    \n",
    "    print(\"Grid Search:\", gs_loss, \"[\", w0_opt, w1_opt, \"]\")\n",
    "    \n",
    "test_your_least_squares()"
   ]
  },
  {
   "cell_type": "markdown",
   "metadata": {},
   "source": [
    "## Least squares with a linear basis function model\n",
    "Start from this section, we will use the dataset `dataEx3.csv`.\n",
    "\n",
    "### Implement polynomial basis functions"
   ]
  },
  {
   "cell_type": "code",
   "execution_count": 5,
   "metadata": {
    "collapsed": false,
    "scrolled": true
   },
   "outputs": [
    {
     "name": "stdout",
     "output_type": "stream",
     "text": [
      "shape of x (50,)\n",
      "shape of y (50,)\n"
     ]
    }
   ],
   "source": [
    "# load dataset\n",
    "x, y = load_data()\n",
    "print(\"shape of x {}\".format(x.shape))\n",
    "print(\"shape of y {}\".format(y.shape))"
   ]
  },
  {
   "cell_type": "code",
   "execution_count": 7,
   "metadata": {
    "collapsed": true
   },
   "outputs": [],
   "source": [
    "def build_poly(x, degree):\n",
    "    \"\"\"polynomial basis functions for input data x, for j=0 up to j=degree.\"\"\"\n",
    "    # polynomial basis function: TODO\n",
    "    # this function should return the matrix formed\n",
    "    # by applying the polynomial basis to the input data\n",
    "    phi = np.zeros((x.shape[0], degree+1))\n",
    "    powers = np.arange(degree+1)[np.newaxis]\n",
    "    phi = np.power(x[:,np.newaxis], powers)    \n",
    "    return phi"
   ]
  },
  {
   "cell_type": "code",
   "execution_count": 8,
   "metadata": {
    "collapsed": false
   },
   "outputs": [
    {
     "data": {
      "text/plain": [
       "array([[[   1,    1,    1,    1,    1,    1]],\n",
       "\n",
       "       [[   1,    2,    4,    8,   16,   32]],\n",
       "\n",
       "       [[   1,    3,    9,   27,   81,  243]],\n",
       "\n",
       "       [[   1,    4,   16,   64,  256, 1024]]])"
      ]
     },
     "execution_count": 8,
     "metadata": {},
     "output_type": "execute_result"
    }
   ],
   "source": [
    "# Check\n",
    "a = np.array([[1],[2],[3],[4]])\n",
    "build_poly(a, 5)"
   ]
  },
  {
   "cell_type": "markdown",
   "metadata": {},
   "source": [
    "Let us play with polynomial regression. Note that we will use your implemented function `compute_mse`. Please copy and paste your implementation from exercise02."
   ]
  },
  {
   "cell_type": "code",
   "execution_count": 9,
   "metadata": {
    "collapsed": false
   },
   "outputs": [
    {
     "name": "stdout",
     "output_type": "stream",
     "text": [
      "Processing 1th experiment, degree=1, rmse=0.47187607963421874\n",
      "Processing 2th experiment, degree=3, rmse=0.25858277667737467\n",
      "Processing 3th experiment, degree=7, rmse=0.2496587036090727\n",
      "Processing 4th experiment, degree=12, rmse=0.24349809575326772\n"
     ]
    },
    {
     "data": {
      "image/png": "[encoded data removed]",
      "text/plain": [
       "<matplotlib.figure.Figure at 0x7fc9cc72d0f0>"
      ]
     },
     "metadata": {},
     "output_type": "display_data"
    }
   ],
   "source": [
    "from plots import *\n",
    "\n",
    "def polynomial_regression():\n",
    "    \"\"\"Constructing the polynomial basis function expansion of the data,\n",
    "       and then running least squares regression.\"\"\"\n",
    "    # define parameters\n",
    "    degrees = [1, 3, 7, 12]\n",
    "    \n",
    "    # define the structure of figure\n",
    "    num_row = 2\n",
    "    num_col = 2\n",
    "    f, axs = plt.subplots(num_row, num_col)\n",
    "\n",
    "    for ind, degree in enumerate(degrees):\n",
    "        \n",
    "        # form the data to do polynomial regression.\n",
    "        phi = build_poly(x, degree)\n",
    "        \n",
    "        # least square and calculate rmse\n",
    "        # Compute optimal value of w according to LSE\n",
    "        mse, w_lse_opt = least_squares(y, phi)\n",
    "        rmse = np.sqrt(2*mse)\n",
    "\n",
    "        print(\"Processing {i}th experiment, degree={d}, rmse={loss}\".format(\n",
    "              i=ind + 1, d=degree, loss=rmse))\n",
    "        # plot fit\n",
    "        plot_fitted_curve(\n",
    "            y, x, w_lse_opt, degree, axs[ind // num_col][ind % num_col])\n",
    "    plt.tight_layout()\n",
    "    plt.savefig(\"visualize_polynomial_regression\")\n",
    "    plt.show()\n",
    "\n",
    "\n",
    "polynomial_regression()"
   ]
  },
  {
   "cell_type": "markdown",
   "metadata": {},
   "source": [
    "# Evaluating model predication performance\n",
    "\n",
    "Let us show the train and test splits for various polynomial degrees. First of all, please fill in the function `split_data()`"
   ]
  },
  {
   "cell_type": "code",
   "execution_count": 10,
   "metadata": {
    "collapsed": true
   },
   "outputs": [],
   "source": [
    "def split_data(x, y, ratio, seed=1):\n",
    "    \"\"\"split the dataset based on the split ratio.\"\"\"\n",
    "    # Set seed\n",
    "    np.random.seed(seed)\n",
    "\n",
    "    # Get size of the training set\n",
    "    count_training = math.ceil(len(y) * ratio)\n",
    "    \n",
    "    # Get indices from 0 to N in randomized order\n",
    "    indices = np.random.permutation(len(y))\n",
    "    \n",
    "    # The first count_training elements of indices are for training set\n",
    "    # The remaining is for test set\n",
    "    training_indice, test_indice = indices[:count_training], indices[count_training:]\n",
    "    \n",
    "    # Use the splitted indices to split the data for both x and y\n",
    "    x_training, x_test = x[training_indice], x[test_indice]\n",
    "    y_training, y_test = y[training_indice], y[test_indice]\n",
    "    \n",
    "    return x_training, y_training, x_test, y_test"
   ]
  },
  {
   "cell_type": "markdown",
   "metadata": {},
   "source": [
    "Then, test your `split_data` function below."
   ]
  },
  {
   "cell_type": "code",
   "execution_count": 11,
   "metadata": {
    "collapsed": false
   },
   "outputs": [
    {
     "name": "stdout",
     "output_type": "stream",
     "text": [
      "proportion=0.9, degree=1, Training RMSE=0.494, Testing RMSE=0.181\n",
      "proportion=0.9, degree=3, Training RMSE=0.264, Testing RMSE=0.206\n",
      "proportion=0.9, degree=7, Training RMSE=0.254, Testing RMSE=0.220\n",
      "proportion=0.9, degree=12, Training RMSE=0.242, Testing RMSE=0.253\n",
      "proportion=0.5, degree=1, Training RMSE=0.455, Testing RMSE=0.531\n",
      "proportion=0.5, degree=3, Training RMSE=0.239, Testing RMSE=0.296\n",
      "proportion=0.5, degree=7, Training RMSE=0.232, Testing RMSE=0.284\n",
      "proportion=0.5, degree=12, Training RMSE=0.205, Testing RMSE=1.607\n",
      "proportion=0.1, degree=1, Training RMSE=0.428, Testing RMSE=0.534\n",
      "proportion=0.1, degree=3, Training RMSE=0.085, Testing RMSE=0.460\n",
      "proportion=0.1, degree=7, Training RMSE=0.000, Testing RMSE=1.985\n",
      "proportion=0.1, degree=12, Training RMSE=0.000, Testing RMSE=5.692\n"
     ]
    }
   ],
   "source": [
    "def train_test_split_demo(x, y, degree, ratio, seed):\n",
    "    \"\"\"polynomial regression with different split ratios and different degrees.\"\"\"\n",
    "    # ***************************************************\n",
    "    # split the data, and return train and test data\n",
    "    # ***************************************************\n",
    "    x_training, y_training, x_test, y_test = split_data(x, y, ratio, seed)\n",
    "    \n",
    "    # ***************************************************\n",
    "    # form train and test data with polynomial basis function\n",
    "    # ***************************************************\n",
    "    phi_training = build_poly(x_training, degree)\n",
    "    phi_test = build_poly(x_test, degree)\n",
    "    \n",
    "    # ***************************************************\n",
    "    # calcualte weight through least square.\n",
    "    # ***************************************************\n",
    "    loss_tr, w_lse_opt = least_squares(y_training, phi_training)\n",
    "    \n",
    "    # ***************************************************\n",
    "    # calculate RMSE for train and test data,\n",
    "    # and store them in rmse_tr and rmse_te respectively\n",
    "    # ***************************************************\n",
    "    rmse_tr = np.sqrt(2*loss_tr)     \n",
    "    rmse_te = np.sqrt(2* compute_loss(y_test, phi_test, w_lse_opt))     \n",
    "    \n",
    "    print(\"proportion={p}, degree={d}, Training RMSE={tr:.3f}, Testing RMSE={te:.3f}\".format(\n",
    "          p=ratio, d=degree, tr=rmse_tr, te=rmse_te))\n",
    "\n",
    "seed = 6\n",
    "degrees = [1, 3, 7, 12]\n",
    "split_ratios = [0.9, 0.5, 0.1]\n",
    "\n",
    "for split_ratio in split_ratios:\n",
    "    for degree in degrees:\n",
    "        train_test_split_demo(x, y, degree, split_ratio, seed)"
   ]
  },
  {
   "cell_type": "markdown",
   "metadata": {},
   "source": [
    "# Ridge Regression\n",
    "Please fill in the function below."
   ]
  },
  {
   "cell_type": "code",
   "execution_count": 13,
   "metadata": {
    "collapsed": true
   },
   "outputs": [],
   "source": [
    "def ridge_regression(y, tx, lamb):\n",
    "    \"\"\"implement ridge regression.\"\"\"\n",
    "    # Get w solving Ax = b\n",
    "    A = np.transpose(tx).dot(tx) + 2*lamb*len(y)*np.identity(tx.shape[1])\n",
    "    b = np.transpose(tx).dot(y)\n",
    "    w_opt = np.linalg.solve(A, b)\n",
    "    \n",
    "    loss = compute_loss(y, tx, w_opt)\n",
    "    \n",
    "    return loss, w_opt"
   ]
  },
  {
   "cell_type": "code",
   "execution_count": 14,
   "metadata": {
    "collapsed": false
   },
   "outputs": [
    {
     "name": "stdout",
     "output_type": "stream",
     "text": [
      "Ridge 5.54723135786 15.3858878688 [ 73.293922    13.47971243]\n"
     ]
    }
   ],
   "source": [
    "def test_your_ridge_regression():\n",
    "    height, weight, gender = load_data_from_ex02(sub_sample=False, add_outlier=False)\n",
    "    x, mean_x, std_x = standardize(height)\n",
    "    y, tx = build_model_data(x, weight)\n",
    "\n",
    "    loss, w_opt = ridge_regression(y, tx, 0)\n",
    "    rmse = np.sqrt(2*loss)\n",
    "    \n",
    "    print(\"Ridge\", rmse, loss, w_opt) # Correspond to grid_search, Gradient Descent and Stochastic Gradient Descent\n",
    "\n",
    "test_your_ridge_regression()\n",
    "\n",
    "#LSE (15.385887868829398, array([ 73.293922  ,  13.47971243]))\n",
    "#Ridge (15.385887868829403, array([ 73.293922  ,  13.47971243]))"
   ]
  },
  {
   "cell_type": "code",
   "execution_count": 16,
   "metadata": {
    "collapsed": false
   },
   "outputs": [
    {
     "data": {
      "image/png": "[encoded data removed]",
      "text/plain": [
       "<matplotlib.figure.Figure at 0x7fc9a2ea5940>"
      ]
     },
     "metadata": {},
     "output_type": "display_data"
    }
   ],
   "source": [
    "def ridge_regression_demo(x, y, degree, ratio, seed):\n",
    "    \"\"\"ridge regression demo.\"\"\"\n",
    "    # define parameter\n",
    "    lambdas = np.logspace(-5, 0, 15)    \n",
    "    \n",
    "    # split the data, and return train and test data\n",
    "    x_training, y_training, x_test, y_test = split_data(x, y, ratio, seed)\n",
    "    \n",
    "    # form train and test data with polynomial basis function\n",
    "    phi_training = build_poly(x_training, degree)\n",
    "    phi_test = build_poly(x_test, degree)\n",
    "    \n",
    "    # ridge regression with different lambda\n",
    "    results_training = np.zeros((len(lambdas), 1))\n",
    "    results_test = np.zeros((len(lambdas), 1))\n",
    "    for i in range(0,len(lambdas)):\n",
    "        loss_tr, w_opt = ridge_regression(y_training, phi_training, lambdas[i])\n",
    "        results_training[i,0] = np.sqrt(2*loss_tr)\n",
    "        results_test[i,0] = np.sqrt(2*compute_loss(y_test, phi_test, w_opt))\n",
    "\n",
    "    plt.plot(lambdas, results_training[:,0], 'b-*', lambdas, results_test[:,0], 'r-*')\n",
    "    plt.xscale('log')\n",
    "    plt.xlabel('lambda')\n",
    "    plt.ylabel('RMSE')\n",
    "    plt.legend(['Training Error', 'Test Error'])\n",
    "    plt.show()\n",
    "\n",
    "seed = 56\n",
    "degree = 7\n",
    "split_ratio = 0.5\n",
    "ridge_regression_demo(x, y, degree, split_ratio, seed)"
   ]
  },
  {
   "cell_type": "code",
   "execution_count": null,
   "metadata": {
    "collapsed": true
   },
   "outputs": [],
   "source": []
  }
 ],
 "metadata": {
  "anaconda-cloud": {},
  "kernelspec": {
   "display_name": "Python [Root]",
   "language": "python",
   "name": "Python [Root]"
  },
  "language_info": {
   "codemirror_mode": {
    "name": "ipython",
    "version": 3
   },
   "file_extension": ".py",
   "mimetype": "text/x-python",
   "name": "python",
   "nbconvert_exporter": "python",
   "pygments_lexer": "ipython3",
   "version": "3.5.2"
  }
 },
 "nbformat": 4,
 "nbformat_minor": 0
}
